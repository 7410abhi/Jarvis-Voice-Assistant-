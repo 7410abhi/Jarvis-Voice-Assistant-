{
 "cells": [
  {
   "cell_type": "markdown",
   "metadata": {},
   "source": [
    "Jarvis is a pure Python based project which is used to send emails without typing a single word, doing Wikipedia searches \n",
    "without opening web browsers, and performing many other daily tasks like playing music with the help of a single voice command.\n",
    "\n",
    "•\tIt can send emails for you.\n",
    "•\tIt can play music for you.\n",
    "•\tIt can do Wikipedia searches for you.\n",
    "•\tIt is capable of opening websites like Google, YouTube, etc., in a web browser.\n",
    "•\tIt is capable of opening your code editor or IDE with a single voice command."
   ]
  },
  {
   "cell_type": "markdown",
   "metadata": {},
   "source": [
    "First and foremost thing for an A.I. assistant is that it should be able to speak. To make our J.A.R.V.I.S. talk, \n",
    "we will make a function called speak(). This function will take audio as an argument, and then, it will pronounce it."
   ]
  },
  {
   "cell_type": "code",
   "execution_count": null,
   "metadata": {},
   "outputs": [],
   "source": [
    "def speak(audio):\n",
    "       pass      #For now, we will write the conditions later."
   ]
  },
  {
   "cell_type": "markdown",
   "metadata": {},
   "source": [
    "Now, the next thing we need is audio. We must supply audio so that we can pronounce it using the speak() function we made. We are going to install a module called pyttsx3.\n",
    "\n",
    " \n",
    "\n",
    "What is pyttsx3?\n",
    "\n",
    "A python library which will help us to convert text to speech. In short, it is a text-to-speech library.\n",
    "It works offline, and it is compatible with Python 2 as well the Python 3."
   ]
  },
  {
   "cell_type": "code",
   "execution_count": null,
   "metadata": {},
   "outputs": [],
   "source": [
    "import pyttsx3\n",
    "\n",
    "engine = pyttsx3.init('sapi5')\n",
    "\n",
    "voices= engine.getProperty('voices') #getting details of current voice\n",
    "\n",
    "engine.setProperty('voice', voices[0].id)"
   ]
  },
  {
   "cell_type": "markdown",
   "metadata": {},
   "source": [
    "What is sapi5?\n",
    "\n",
    "Speech API developed by Microsoft.\n",
    "Helps in synthesis and recognition of voice\n",
    " \n",
    "\n",
    "What Is VoiceId?\n",
    "\n",
    "Voice id helps us to select different voices.\n",
    "voice[0].id = Male voice \n",
    "voice[1].id = Female voice"
   ]
  },
  {
   "cell_type": "markdown",
   "metadata": {},
   "source": [
    "# Writing Our speak() Function?\n",
    "We made a function called speak() at the starting of this tutorial. Now, we will write our speak() function so that it can convert our text to speech.\n",
    "\n",
    " "
   ]
  },
  {
   "cell_type": "code",
   "execution_count": null,
   "metadata": {},
   "outputs": [],
   "source": [
    "def speak(audio):\n",
    "\n",
    "    engine.say(audio) \n",
    "\n",
    "    engine.runAndWait() #Without this command, speech will not be audible to us."
   ]
  },
  {
   "cell_type": "markdown",
   "metadata": {},
   "source": [
    "# Creating Our main() function: \n",
    " \n",
    "\n",
    "Now, we will create a main() function, and inside this main() Function, we will call our speak function.\n",
    "\n",
    " "
   ]
  },
  {
   "cell_type": "code",
   "execution_count": null,
   "metadata": {},
   "outputs": [],
   "source": [
    "if __name__==\"__main__\" :\n",
    "\n",
    "    speak(\"Code With Harry\")"
   ]
  },
  {
   "cell_type": "markdown",
   "metadata": {},
   "source": [
    "# Defining Wish me Function\n",
    " \n",
    "\n",
    "Now, we are going to make a wishme() function, that will make our J.A.R.V.I.S. wish or greet the user according to the time of computer or pc.\n",
    "\n",
    "To provide current or live time to A.I., we need to import a module called datetime. Import this module to your program, by:"
   ]
  },
  {
   "cell_type": "code",
   "execution_count": null,
   "metadata": {},
   "outputs": [],
   "source": [
    "import datetime"
   ]
  },
  {
   "cell_type": "code",
   "execution_count": null,
   "metadata": {},
   "outputs": [],
   "source": [
    "# Now, let's start defining our wishme() function:\n",
    "def wishme():\n",
    "\n",
    "    hour = int(datetime.datetime.now().hour)"
   ]
  },
  {
   "cell_type": "markdown",
   "metadata": {},
   "source": [
    "Here, we have stored the integer value of the current hour or time into a variable named hour. Now, we will use this hour value inside an if-else loop."
   ]
  },
  {
   "cell_type": "code",
   "execution_count": null,
   "metadata": {},
   "outputs": [],
   "source": [
    "def wishMe():\n",
    "    hour = int(datetime.datetime.now().hour)\n",
    "    if hour>=0 and hour<12:\n",
    "        speak(\"Good Morning!\")\n",
    "\n",
    "    elif hour>=12 and hour<18:\n",
    "        speak(\"Good Afternoon!\")   \n",
    "\n",
    "    else:\n",
    "        speak(\"Good Evening!\")  \n",
    "\n",
    "    speak(\"I am Jarvis Sir. Please tell me how may I help you\")   "
   ]
  },
  {
   "cell_type": "markdown",
   "metadata": {},
   "source": [
    "Defining Take command Function \n",
    " \n",
    "\n",
    "The next most important thing for our A.I. assistant is that it should be able to take command with the help of the microphone of the user's system. So, now we will make a takeCommand() function. \n",
    "\n",
    "With the help of the takeCommand() function, our A.I. assistant will be able to return a string output by taking microphone input from the user.\n",
    "\n",
    "\n",
    "Before defining the takeCommand() function, we need to install a module called speechRecognition. Install this module by:"
   ]
  },
  {
   "cell_type": "code",
   "execution_count": null,
   "metadata": {},
   "outputs": [],
   "source": [
    "#pip install speechRecognition\n",
    "\n",
    "# After successfully installing this module, import this module into the program by writing an import statement.\n",
    "\n",
    "import speechRecognition as sr"
   ]
  },
  {
   "cell_type": "code",
   "execution_count": null,
   "metadata": {},
   "outputs": [],
   "source": [
    "# Let's start coding our takeCommand() function.\n",
    "\n",
    "def takeCommand():\n",
    "    #It takes microphone input from the user and returns string output\n",
    "\n",
    "    r = sr.Recognizer()\n",
    "    with sr.Microphone() as source:\n",
    "        print(\"Listening...\")\n",
    "        r.pause_threshold = 1\n",
    "        audio = r.listen(source)\n",
    "    try:\n",
    "        print(\"Recognizing...\")    \n",
    "        query = r.recognize_google(audio, language='en-in') #Using google for voice recognition.\n",
    "        print(f\"User said: {query}\\n\")  #User query will be printed.\n",
    "\n",
    "    \n",
    "        \n",
    "    except Exception as e:\n",
    "        print(\"Say that again please...\")   #Say that again will be printed in case of improper voice \n",
    "        return \"None\" #None string will be returned\n",
    "        \n",
    "    return query"
   ]
  },
  {
   "cell_type": "markdown",
   "metadata": {},
   "source": [
    "We have successfully created our takeCommand() function. Now we are going to add a try and except block to our program to handle errors effectively."
   ]
  },
  {
   "cell_type": "markdown",
   "metadata": {},
   "source": [
    "# Coding logic of Jarvis\n",
    " \n",
    "\n",
    "Now, we will develop logics for different commands such as Wikipedia searches, playing music, etc."
   ]
  },
  {
   "cell_type": "markdown",
   "metadata": {},
   "source": [
    "Defining Task 1: To search something on Wikipedia \n",
    " \n",
    "\n",
    "To do Wikipedia searches, we need to install and import the Wikipedia module into our program. \n",
    "\n",
    "Installing wikipedia module:\n",
    "\n",
    "pip install wikipedia"
   ]
  },
  {
   "cell_type": "code",
   "execution_count": null,
   "metadata": {},
   "outputs": [],
   "source": [
    "#After successfully installing wikipedia module, import the wikipedia module into the program by writing an import statement.\n",
    "\n",
    "if __name__ == \"__main__\":\n",
    "    wishMe()\n",
    "    while True:\n",
    "    # if 1:\n",
    "        query = takeCommand().lower() #Converting user query into lower case\n",
    "\n",
    "        # Logic for executing tasks based on query\n",
    "        if 'wikipedia' in query:  #if wikipedia found in the query then this block will be executed\n",
    "            speak('Searching Wikipedia...')\n",
    "            query = query.replace(\"wikipedia\", \"\")\n",
    "            results = wikipedia.summary(query, sentences=2) \n",
    "            speak(\"According to Wikipedia\")\n",
    "            print(results)\n",
    "            speak(results)"
   ]
  },
  {
   "cell_type": "markdown",
   "metadata": {},
   "source": [
    "In the above code, we have used an if statement to check whether Wikipedia is in the search query of the user or not. If Wikipedia is found in the user's search query, then two sentences from the summary of the Wikipedia page will be converted to speech with the help of speak function."
   ]
  },
  {
   "cell_type": "markdown",
   "metadata": {},
   "source": [
    "# Defining Task 2: To open YouTube site in a web-browser\n",
    " \n",
    "\n",
    "To open any website, we need to import a module called webbrowser.\n",
    "\n",
    "It is an in-built module, and we do not need to install it with pip statement, we can directly import it into our program by writing an import statement.\n",
    "\n",
    " "
   ]
  },
  {
   "cell_type": "code",
   "execution_count": null,
   "metadata": {},
   "outputs": [],
   "source": [
    "elif 'open youtube' in query:\n",
    "    webbrowser.open(\"youtube.com\")"
   ]
  },
  {
   "cell_type": "markdown",
   "metadata": {},
   "source": [
    "Here, we are using the elif loop to check whether the Youtube is in the query of the user or not. Let' suppose, the user gives command as \"J.A.R.V.I.S., open youtube.\"\n",
    "\n",
    "So, open youtube will be in the user's query, and the elif condition will be true."
   ]
  },
  {
   "cell_type": "markdown",
   "metadata": {},
   "source": [
    "# Defining Task 3: To open Google site in a web-browser"
   ]
  },
  {
   "cell_type": "code",
   "execution_count": null,
   "metadata": {},
   "outputs": [],
   "source": [
    "elif 'open google' in query:\n",
    "    webbrowser.open(\"google.com\")"
   ]
  },
  {
   "cell_type": "markdown",
   "metadata": {},
   "source": [
    "We are opening Google in a web-browser by applying the same logic that we used while opening Youtube. "
   ]
  },
  {
   "cell_type": "markdown",
   "metadata": {},
   "source": [
    "# Defining Task 4: To play music \n",
    " \n",
    "To play music, we need to import a module called os. Import this module directly with an import statement."
   ]
  },
  {
   "cell_type": "code",
   "execution_count": null,
   "metadata": {},
   "outputs": [],
   "source": [
    "elif 'play music' in query:\n",
    "    music_dir = 'D:\\\\Non Critical\\\\songs\\\\Favorite Songs2'\n",
    "    songs = os.listdir(music_dir)\n",
    "    print(songs)    \n",
    "    os.startfile(os.path.join(music_dir, songs[0]))"
   ]
  },
  {
   "cell_type": "markdown",
   "metadata": {},
   "source": [
    "In the above code, we first opened our music directory and then listed all the songs present in the directory with the help of the os module.\n",
    "\n",
    "With the help of os.starfile, you can play any song of your choice. I am playing the first song in the directory. However, you can also play a random song with the help of a random module. Every time you command to play music, J.A.R.V.I.S. will play any random song from the song directory."
   ]
  },
  {
   "cell_type": "markdown",
   "metadata": {},
   "source": [
    "# Defining Task 5: To know the current time"
   ]
  },
  {
   "cell_type": "code",
   "execution_count": null,
   "metadata": {},
   "outputs": [],
   "source": [
    "elif 'the time' in query:\n",
    "    strTime = datetime.datetime.now().strftime(\"%H:%M:%S\")    \n",
    "    speak(f\"Sir, the time is {strTime}\")"
   ]
  },
  {
   "cell_type": "markdown",
   "metadata": {},
   "source": [
    "In the above, code with are using datetime() function and storing the current or live of the system into a variable called strTime.\n",
    "\n",
    "After storing the time in strTime, we are passing this variable as an argument in speak function. Now, the time string will be converted into the speech.\n",
    "\n",
    " "
   ]
  },
  {
   "cell_type": "markdown",
   "metadata": {},
   "source": [
    "# Defining Task 6: To open the VS Code Program"
   ]
  },
  {
   "cell_type": "markdown",
   "metadata": {},
   "source": [
    "To open the VS Code or any other application, we need the code path of the application.\n",
    "\n",
    " \n",
    "\n",
    "Steps of getting the code path of the application:\n",
    "Step 1: Open the file location.\n",
    "\n",
    "Step 2: Right-click on the application and click on properties.\n",
    "\n",
    "Step 3: Copy the target from the target section.\n",
    "\n",
    " \n",
    "\n",
    "After copying the target of the application, save the target into a variable. Here, I am saving the target into a variable called codePath, and then we are using the os module to open the application."
   ]
  },
  {
   "cell_type": "markdown",
   "metadata": {},
   "source": [
    "# Defining Task 7: To send Email\n",
    " \n",
    "\n",
    "To send an email, we need to import a module called smtplib.\n",
    "\n",
    " \n",
    "\n",
    "What is smtplib?\n",
    "\n",
    "Simple Mail Transfer Protocol (SMTP) is a protocol that allows us to send emails and to route emails between mail servers.\n",
    " \n",
    "\n",
    "An instance method called sendmail is present in the SMTP module. This instance method allows us to send an email. \n",
    "\n",
    "It takes 3 parameters:\n",
    "\n",
    "The sender: Email address of the sender.\n",
    "The receiver:T Email of the receiver.\n",
    "The message: A string message which needs to be sent to one or more than one recipient."
   ]
  },
  {
   "cell_type": "markdown",
   "metadata": {},
   "source": [
    "# Defining Send email function :\n",
    "\n",
    "Now, we will create a sendEmail() function, which will help us to send emails to one or more than one recipients."
   ]
  },
  {
   "cell_type": "code",
   "execution_count": null,
   "metadata": {},
   "outputs": [],
   "source": [
    "def sendEmail(to, content):\n",
    "    server = smtplib.SMTP('smtp.gmail.com', 587)\n",
    "    server.ehlo()\n",
    "    server.starttls()\n",
    "    server.login('youremail@gmail.com', 'your-password')\n",
    "    server.sendmail('youremail@gmail.com', to, content)\n",
    "    server.close()"
   ]
  },
  {
   "cell_type": "markdown",
   "metadata": {},
   "source": [
    "In the above code, we are using the SMTP module, which we have already discussed above.\n",
    "\n",
    "Note: Do not forget to 'enable the less secure apps' feature in your Gmail account. Otherwise, the sendEmail function will not work properly.\n",
    "\n",
    " "
   ]
  },
  {
   "cell_type": "markdown",
   "metadata": {},
   "source": [
    "# Calling sendEmail() function inside the main() function:"
   ]
  },
  {
   "cell_type": "code",
   "execution_count": null,
   "metadata": {},
   "outputs": [],
   "source": [
    "elif 'email to harry' in query:\n",
    "    try:\n",
    "        speak(\"What should I say?\")\n",
    "        content = takeCommand()\n",
    "        to = \"harryyourEmail@gmail.com\"    \n",
    "        sendEmail(to, content)\n",
    "        speak(\"Email has been sent!\")\n",
    "    except Exception as e:\n",
    "        print(e)\n",
    "        speak(\"Sorry my friend harry bhai. I am not able to send this email\")"
   ]
  },
  {
   "cell_type": "markdown",
   "metadata": {},
   "source": [
    "# Recapitulate\n",
    "What have we done so far? \n",
    "First of all, we have created a wishme() function that gives the functionality of greeting according to the system time to our A.I.\n",
    "After wishme() function, we have created a takeCommand() function, which helps our A.I to take command from the user. This function is also responsible for returning the user's query in a string format.\n",
    "We developed the code logic for opening different websites like google, youtube, and stack overflow.\n",
    "Developed code logic for opening VS Code or any other application.\n",
    "At last, we added functionality to send emails."
   ]
  },
  {
   "cell_type": "markdown",
   "metadata": {},
   "source": [
    "# Complete Code"
   ]
  },
  {
   "cell_type": "code",
   "execution_count": null,
   "metadata": {},
   "outputs": [],
   "source": [
    "import pyttsx3 #pip install pyttsx3\n",
    "import speech_recognition as sr #pip install speechRecognition\n",
    "import datetime\n",
    "import wikipedia #pip install wikipedia\n",
    "import webbrowser\n",
    "import os\n",
    "import smtplib\n",
    "\n",
    "engine = pyttsx3.init('sapi5')\n",
    "voices = engine.getProperty('voices')\n",
    "# print(voices[1].id)\n",
    "engine.setProperty('voice', voices[0].id)\n",
    "\n",
    "\n",
    "def speak(audio):\n",
    "    engine.say(audio)\n",
    "    engine.runAndWait()\n",
    "\n",
    "\n",
    "def wishMe():\n",
    "    hour = int(datetime.datetime.now().hour)\n",
    "    if hour>=0 and hour<12:\n",
    "        speak(\"Good Morning!\")\n",
    "\n",
    "    elif hour>=12 and hour<18:\n",
    "        speak(\"Good Afternoon!\")   \n",
    "\n",
    "    else:\n",
    "        speak(\"Good Evening!\")  \n",
    "\n",
    "    speak(\"I am Jarvis Sir. Please tell me how may I help you\")       \n",
    "\n",
    "def takeCommand():\n",
    "    #It takes microphone input from the user and returns string output\n",
    "\n",
    "    r = sr.Recognizer()\n",
    "    with sr.Microphone() as source:\n",
    "        print(\"Listening...\")\n",
    "        r.pause_threshold = 1\n",
    "        audio = r.listen(source)\n",
    "\n",
    "    try:\n",
    "        print(\"Recognizing...\")    \n",
    "        query = r.recognize_google(audio, language='en-in')\n",
    "        print(f\"User said: {query}\\n\")\n",
    "\n",
    "    except Exception as e:\n",
    "        # print(e)    \n",
    "        print(\"Say that again please...\")  \n",
    "        return \"None\"\n",
    "    return query\n",
    "\n",
    "def sendEmail(to, content):\n",
    "    server = smtplib.SMTP('smtp.gmail.com', 587)\n",
    "    server.ehlo()\n",
    "    server.starttls()\n",
    "    server.login('youremail@gmail.com', 'your-password')\n",
    "    server.sendmail('youremail@gmail.com', to, content)\n",
    "    server.close()\n",
    "\n",
    "if __name__ == \"__main__\":\n",
    "    wishMe()\n",
    "    while True:\n",
    "    # if 1:\n",
    "        query = takeCommand().lower()\n",
    "\n",
    "        # Logic for executing tasks based on query\n",
    "        if 'wikipedia' in query:\n",
    "            speak('Searching Wikipedia...')\n",
    "            query = query.replace(\"wikipedia\", \"\")\n",
    "            results = wikipedia.summary(query, sentences=2)\n",
    "            speak(\"According to Wikipedia\")\n",
    "            print(results)\n",
    "            speak(results)\n",
    "\n",
    "        elif 'open youtube' in query:\n",
    "            webbrowser.open(\"youtube.com\")\n",
    "\n",
    "        elif 'open google' in query:\n",
    "            webbrowser.open(\"google.com\")\n",
    "\n",
    "        elif 'open stackoverflow' in query:\n",
    "            webbrowser.open(\"stackoverflow.com\")   \n",
    "\n",
    "\n",
    "        elif 'play music' in query:\n",
    "            music_dir = 'D:\\\\Non Critical\\\\songs\\\\Favorite Songs2'\n",
    "            songs = os.listdir(music_dir)\n",
    "            print(songs)    \n",
    "            os.startfile(os.path.join(music_dir, songs[0]))\n",
    "\n",
    "        elif 'the time' in query:\n",
    "            strTime = datetime.datetime.now().strftime(\"%H:%M:%S\")    \n",
    "            speak(f\"Sir, the time is {strTime}\")\n",
    "\n",
    "        elif 'open code' in query:\n",
    "            codePath = \"C:\\\\Users\\\\Haris\\\\AppData\\\\Local\\\\Programs\\\\Microsoft VS Code\\\\Code.exe\"\n",
    "            os.startfile(codePath)\n",
    "\n",
    "        elif 'email to harry' in query:\n",
    "            try:\n",
    "                speak(\"What should I say?\")\n",
    "                content = takeCommand()\n",
    "                to = \"harryyourEmail@gmail.com\"    \n",
    "                sendEmail(to, content)\n",
    "                speak(\"Email has been sent!\")\n",
    "            except Exception as e:\n",
    "                print(e)\n",
    "                speak(\"Sorry my friend harry bhai. I am not able to send this email\")    "
   ]
  },
  {
   "cell_type": "code",
   "execution_count": null,
   "metadata": {},
   "outputs": [],
   "source": []
  }
 ],
 "metadata": {
  "kernelspec": {
   "display_name": "Python 3",
   "language": "python",
   "name": "python3"
  },
  "language_info": {
   "codemirror_mode": {
    "name": "ipython",
    "version": 3
   },
   "file_extension": ".py",
   "mimetype": "text/x-python",
   "name": "python",
   "nbconvert_exporter": "python",
   "pygments_lexer": "ipython3",
   "version": "3.7.7"
  }
 },
 "nbformat": 4,
 "nbformat_minor": 4
}
